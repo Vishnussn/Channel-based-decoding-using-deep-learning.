{
  "nbformat": 4,
  "nbformat_minor": 0,
  "metadata": {
    "colab": {
      "name": "final_wireless.ipynb",
      "version": "0.3.2",
      "provenance": [],
      "collapsed_sections": []
    },
    "kernelspec": {
      "name": "python3",
      "display_name": "Python 3"
    }
  },
  "cells": [
    {
      "cell_type": "code",
      "metadata": {
        "id": "ZjgpPZHHxrUb",
        "colab_type": "code",
        "outputId": "d1817cba-aa46-4d36-cf1f-c645b8ac0d8b",
        "colab": {
          "resources": {
            "http://localhost:8080/nbextensions/google.colab/files.js": {
              "data": "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",
              "ok": true,
              "headers": [
                [
                  "content-type",
                  "application/javascript"
                ]
              ],
              "status": 200,
              "status_text": ""
            }
          },
          "base_uri": "https://localhost:8080/",
          "height": 40
        }
      },
      "source": [
        "from google.colab import files\n",
        "uploaded=files.upload()"
      ],
      "execution_count": 0,
      "outputs": [
        {
          "output_type": "display_data",
          "data": {
            "text/html": [
              "\n",
              "     <input type=\"file\" id=\"files-d91c8690-6d9e-471f-be0e-ff3c5aeb93cb\" name=\"files[]\" multiple disabled />\n",
              "     <output id=\"result-d91c8690-6d9e-471f-be0e-ff3c5aeb93cb\">\n",
              "      Upload widget is only available when the cell has been executed in the\n",
              "      current browser session. Please rerun this cell to enable.\n",
              "      </output>\n",
              "      <script src=\"/nbextensions/google.colab/files.js\"></script> "
            ],
            "text/plain": [
              "<IPython.core.display.HTML object>"
            ]
          },
          "metadata": {
            "tags": []
          }
        }
      ]
    },
    {
      "cell_type": "code",
      "metadata": {
        "id": "iVJWSn1XyBvn",
        "colab_type": "code",
        "colab": {}
      },
      "source": [
        "import numpy as np\n",
        "from keras.models import Sequential\n",
        "from keras.layers.core import Dense, Lambda\n",
        "from keras import backend as K\n",
        "import matplotlib.pyplot as plt\n",
        "%matplotlib inline\n",
        "\n",
        "\n"
      ],
      "execution_count": 0,
      "outputs": []
    },
    {
      "cell_type": "code",
      "metadata": {
        "id": "W6kHb5FSTwOQ",
        "colab_type": "code",
        "colab": {}
      },
      "source": [
        "k = 8                       \n",
        "N = 16                     \n",
        "train_SNR_Eb = 1           \n",
        "\n",
        "nb_epoch = 2**12\n",
        "code = 'polar'\n",
        "nodes = [128, 64, 32]      \n",
        "batch_size = 256       \n",
        "LLR = False                \n",
        "optimizer = 'adam'           \n",
        "loss = 'mse'                \n",
        "\n",
        "train_SNR_Es = train_SNR_Eb + 10*np.log10(k/N)\n",
        "train_sigma = np.sqrt(1/(2*10**(train_SNR_Es/10)))"
      ],
      "execution_count": 0,
      "outputs": []
    },
    {
      "cell_type": "code",
      "metadata": {
        "id": "sJEdgN4--eNB",
        "colab_type": "code",
        "colab": {}
      },
      "source": [
        "k = 8                       \n",
        "N = 16                     \n",
        "train_SNR_Eb = 1           \n",
        "\n",
        "nb_epoch = 2**12      \n",
        "code = 'polar'\n",
        "nodes = [512,256,128]      \n",
        "batch_size = 256       \n",
        "LLR = False                \n",
        "optimizer = 'adam'           \n",
        "loss = 'mse'                \n",
        "\n",
        "train_SNR_Es = train_SNR_Eb + 10*np.log10(k/N)\n",
        "train_sigma = np.sqrt(1/(2*10**(train_SNR_Es/10)))"
      ],
      "execution_count": 0,
      "outputs": []
    },
    {
      "cell_type": "code",
      "metadata": {
        "id": "QYo_UcEb32hj",
        "colab_type": "code",
        "colab": {}
      },
      "source": [
        "k = 8                 \n",
        "N = 16                     \n",
        "train_SNR_Eb = 1           \n",
        "\n",
        "nb_epoch = 2**16          \n",
        "code = 'random'\n",
        "nodes = [128, 64, 32]      \n",
        "batch_size = 256       \n",
        "LLR = False                \n",
        "optimizer = 'adam'           \n",
        "loss = 'mse'                \n",
        "\n",
        "train_SNR_Es = train_SNR_Eb + 10*np.log10(k/N)\n",
        "train_sigma = np.sqrt(1/(2*10**(train_SNR_Es/10)))"
      ],
      "execution_count": 0,
      "outputs": []
    },
    {
      "cell_type": "code",
      "metadata": {
        "id": "r9XIYUk54pAM",
        "colab_type": "code",
        "colab": {}
      },
      "source": [
        "k = 8                   \n",
        "N = 16                  \n",
        "train_SNR_Eb = 1           \n",
        "\n",
        "nb_epoch = 2**12        \n",
        "code = 'polar'\n",
        "nodes = [128, 64, 32]      \n",
        "batch_size = 256       \n",
        "LLR = False                \n",
        "optimizer = 'adam'           \n",
        "loss = 'mse'                \n",
        "\n",
        "train_SNR_Es = train_SNR_Eb + 10*np.log10(k/N)\n",
        "train_sigma = np.sqrt(1/(2*10**(train_SNR_Es/10)))"
      ],
      "execution_count": 0,
      "outputs": []
    },
    {
      "cell_type": "code",
      "metadata": {
        "id": "CfjHNNW9WC5X",
        "colab_type": "code",
        "colab": {}
      },
      "source": [
        "k = 8                  \n",
        "N = 16                     \n",
        "train_SNR_Eb = 1           \n",
        "\n",
        "nb_epoch = 2**12        \n",
        "code = 'polar'\n",
        "nodes = [128, 64, 32]      \n",
        "batch_size = 256       \n",
        "LLR = True              \n",
        "optimizer = 'adam'           \n",
        "loss = 'mse'                \n",
        "\n",
        "train_SNR_Es = train_SNR_Eb + 10*np.log10(k/N)\n",
        "train_sigma = np.sqrt(1/(2*10**(train_SNR_Es/10)))"
      ],
      "execution_count": 0,
      "outputs": []
    },
    {
      "cell_type": "code",
      "metadata": {
        "id": "_nz-4nMFT4M1",
        "colab_type": "code",
        "colab": {}
      },
      "source": [
        "def modulateBPSK(x):\n",
        "    return -2*x +1;\n",
        "\n",
        "def addNoise(x, sigma):\n",
        "    w = K.random_normal(K.shape(x), mean=0.0, stddev=sigma)\n",
        "    return x + w\n",
        "\n",
        "def ber(y_true, y_pred):\n",
        "    return K.mean(K.cast(K.not_equal(y_true, K.round(y_pred)),'float32'))\n",
        "\n",
        "def return_output_shape(input_shape):  \n",
        "    return input_shape\n",
        "\n",
        "def compose_model(layers):\n",
        "    model = Sequential()\n",
        "    for layer in layers:\n",
        "        model.add(layer)\n",
        "    return model\n",
        "\n",
        "def log_likelihood_ratio(x, sigma):\n",
        "    return 2*x/np.float32(sigma**2)\n",
        "\n",
        "def errors(y_true, y_pred):\n",
        "    return K.sum(K.cast(K.not_equal(y_true, K.round(y_pred)),'float32'))"
      ],
      "execution_count": 0,
      "outputs": []
    },
    {
      "cell_type": "code",
      "metadata": {
        "id": "La9KMceUT8cF",
        "colab_type": "code",
        "colab": {}
      },
      "source": [
        "# modulator\n",
        "modulator_layers = [Lambda(modulateBPSK, \n",
        "                          input_shape=(N,), output_shape=return_output_shape, name=\"modulator\")]\n",
        "modulator = compose_model(modulator_layers)\n",
        "modulator.compile(optimizer=optimizer, loss=loss)\n",
        "\n",
        "# noise\n",
        "noise_layers = [Lambda(addNoise, arguments={'sigma':train_sigma}, \n",
        "                       input_shape=(N,), output_shape=return_output_shape, name=\"noise\")]\n",
        "noise = compose_model(noise_layers)\n",
        "noise.compile(optimizer=optimizer, loss=loss)\n",
        "\n",
        "# LLR\n",
        "llr_layers = [Lambda(log_likelihood_ratio, arguments={'sigma':train_sigma}, \n",
        "                     input_shape=(N,), output_shape=return_output_shape, name=\"LLR\")]\n",
        "llr = compose_model(llr_layers)\n",
        "llr.compile(optimizer=optimizer, loss=loss)\n",
        "\n",
        "# decoder \n",
        "decoder_layers = [Dense(nodes[0], activation='relu', input_shape=(N,))]\n",
        "for i in range(1,len(nodes)):\n",
        "    decoder_layers.append(Dense(nodes[i], activation='relu'))\n",
        "decoder_layers.append(Dense(k, activation='sigmoid'))\n",
        "decoder = compose_model(decoder_layers)\n",
        "decoder.compile(optimizer=optimizer, loss=loss, metrics=[errors])\n",
        "\n",
        "# model\n",
        "if LLR:\n",
        "    model_layers = modulator_layers + noise_layers + llr_layers + decoder_layers\n",
        "else:\n",
        "    model_layers = modulator_layers + noise_layers + decoder_layers\n",
        "model = compose_model(model_layers)\n",
        "model.compile(optimizer=optimizer, loss=loss, metrics=[ber])"
      ],
      "execution_count": 0,
      "outputs": []
    },
    {
      "cell_type": "code",
      "metadata": {
        "id": "j02VzDFoUBlr",
        "colab_type": "code",
        "colab": {}
      },
      "source": [
        "def half_adder(a,b):\n",
        "    s = a ^ b\n",
        "    c = a & b\n",
        "    return s,c\n",
        "\n",
        "def full_adder(a,b,c):\n",
        "    s = (a ^ b) ^ c\n",
        "    c = (a & b) | (c & (a ^ b))\n",
        "    return s,c\n",
        "\n",
        "def add_bool(a,b):\n",
        "    if len(a) != len(b):\n",
        "        raise ValueError('arrays with different length')\n",
        "    k = len(a)\n",
        "    s = np.zeros(k,dtype=bool)\n",
        "    c = False\n",
        "    for i in reversed(range(0,k)):\n",
        "        s[i], c = full_adder(a[i],b[i],c)    \n",
        "    if c:\n",
        "        warnings.warn(\"Addition overflow!\")\n",
        "    return s\n",
        "\n",
        "def inc_bool(a):\n",
        "    k = len(a)\n",
        "    increment = np.hstack((np.zeros(k-1,dtype=bool), np.ones(1,dtype=bool)))\n",
        "    a = add_bool(a,increment)\n",
        "    return a\n",
        "\n",
        "def bitrevorder(x):\n",
        "    m = np.amax(x)\n",
        "    n = np.ceil(np.log2(m)).astype(int)\n",
        "    for i in range(0,len(x)):\n",
        "        x[i] = int('{:0{n}b}'.format(x[i],n=n)[::-1],2)  \n",
        "    return x\n",
        "\n",
        "def int2bin(x,N):\n",
        "    if isinstance(x, list) or isinstance(x, np.ndarray):\n",
        "        binary = np.zeros((len(x),N),dtype='bool')\n",
        "        for i in range(0,len(x)):\n",
        "            binary[i] = np.array([int(j) for j in bin(x[i])[2:].zfill(N)])\n",
        "    else:\n",
        "        binary = np.array([int(j) for j in bin(x)[2:].zfill(N)],dtype=bool)\n",
        "    \n",
        "    return binary\n",
        "\n",
        "def bin2int(b):\n",
        "    if isinstance(b[0], list):\n",
        "        integer = np.zeros((len(b),),dtype=int)\n",
        "        for i in range(0,len(b)):\n",
        "            out = 0\n",
        "            for bit in b[i]:\n",
        "                out = (out << 1) | bit\n",
        "            integer[i] = out\n",
        "    elif isinstance(b, np.ndarray):\n",
        "        if len(b.shape) == 1:\n",
        "            out = 0\n",
        "            for bit in b:\n",
        "                out = (out << 1) | bit\n",
        "            integer = out     \n",
        "        else:\n",
        "            integer = np.zeros((b.shape[0],),dtype=int)\n",
        "            for i in range(0,b.shape[0]):\n",
        "                out = 0\n",
        "                for bit in b[i]:\n",
        "                    out = (out << 1) | bit\n",
        "                integer[i] = out\n",
        "        \n",
        "    return integer\n",
        "\n",
        "def polar_design_awgn(N, k, design_snr_dB):  \n",
        "        \n",
        "    S = 10**(design_snr_dB/10)\n",
        "    z0 = np.zeros(N)\n",
        "\n",
        "    z0[0] = np.exp(-S)\n",
        "    for j in range(1,int(np.log2(N))+1):\n",
        "        u = 2**j\n",
        "        for t in range(0,int(u/2)):\n",
        "            T = z0[t]\n",
        "            z0[t] = 2*T - T**2     # upper channel\n",
        "            z0[int(u/2)+t] = T**2  # lower channel\n",
        "        \n",
        "    # sort into increasing order\n",
        "    index = np.argsort(z0)\n",
        "        \n",
        " \n",
        "    index = np.sort(bitrevorder(index[0:k]))\n",
        "    \n",
        "    A = np.zeros(N, dtype=bool)\n",
        "    A[index] = True\n",
        "        \n",
        "    return A\n",
        "\n",
        "def polar_transform_iter(u):\n",
        "\n",
        "    N = len(u)\n",
        "    n = 1\n",
        "    x = np.copy(u)\n",
        "    stages = np.log2(N).astype(int)\n",
        "    for s in range(0,stages):\n",
        "        i = 0\n",
        "        while i < N:\n",
        "            for j in range(0,n):\n",
        "                idx = i+j\n",
        "                x[idx] = x[idx] ^ x[idx+n]\n",
        "            i=i+2*n\n",
        "        n=2*n\n",
        "    return x"
      ],
      "execution_count": 0,
      "outputs": []
    },
    {
      "cell_type": "code",
      "metadata": {
        "id": "dMfgrJjXUVTe",
        "colab_type": "code",
        "colab": {}
      },
      "source": [
        "# all possible information words\n",
        "d = np.zeros((2**k,k),dtype=bool)\n",
        "for i in range(1,2**k):\n",
        "    d[i]= inc_bool(d[i-1])\n",
        "\n",
        "# sets of all possible codewords (codebook)\n",
        "if code == 'polar':   \n",
        "    \n",
        "    L = polar_design_awgn(N, k, design_snr_dB=0)  # vector indicating the nonfrozen bit locations \n",
        "    x = np.zeros((2**k, N),dtype=bool)\n",
        "    u = np.zeros((2**k, N),dtype=bool)\n",
        "    u[:,L] = d\n",
        "\n",
        "    for i in range(0,2**k):\n",
        "        x[i] = polar_transform_iter(u[i])\n",
        "\n",
        "elif code == 'random':\n",
        "    \n",
        "    np.random.seed(4267)   # for a 16bit Random Code (r=0.5) with Hamming distance >= 2\n",
        "    x = np.random.randint(0,2,size=(2**k,N), dtype=bool)"
      ],
      "execution_count": 0,
      "outputs": []
    },
    {
      "cell_type": "code",
      "metadata": {
        "id": "cVZV9SflUZmj",
        "colab_type": "code",
        "outputId": "32d3328d-4098-4ff5-8a38-f6675234dfe2",
        "colab": {
          "base_uri": "https://localhost:8080/",
          "height": 68
        }
      },
      "source": [
        "model.fit(x, d, batch_size=batch_size, nb_epoch=nb_epoch, verbose=0, shuffle=True)"
      ],
      "execution_count": 22,
      "outputs": [
        {
          "output_type": "stream",
          "text": [
            "/usr/local/lib/python3.6/dist-packages/ipykernel_launcher.py:1: UserWarning: The `nb_epoch` argument in `fit` has been renamed `epochs`.\n",
            "  \"\"\"Entry point for launching an IPython kernel.\n"
          ],
          "name": "stderr"
        },
        {
          "output_type": "execute_result",
          "data": {
            "text/plain": [
              "<keras.callbacks.History at 0x7f8802757d30>"
            ]
          },
          "metadata": {
            "tags": []
          },
          "execution_count": 22
        }
      ]
    },
    {
      "cell_type": "code",
      "metadata": {
        "id": "iuv7WFLEUf0B",
        "colab_type": "code",
        "colab": {}
      },
      "source": [
        "test_batch = 2000  \n",
        "num_words = 200000     \n",
        "\n",
        "SNR_dB_start_Eb = 0\n",
        "SNR_dB_stop_Eb = 5\n",
        "SNR_points = 20"
      ],
      "execution_count": 0,
      "outputs": []
    },
    {
      "cell_type": "code",
      "metadata": {
        "id": "uXGQQ6koBEQF",
        "colab_type": "code",
        "colab": {
          "base_uri": "https://localhost:8080/",
          "height": 357
        },
        "outputId": "39cd7b4a-1e39-46e7-c270-685e69359be0"
      },
      "source": [
        "result_map=0\n",
        "if code=='polar':\n",
        "  result_map=[[1.000000,   800000,    99463,   100000,    29498],\n",
        "  [0.976965,   800000,    92809,   100000,    27316],\n",
        "  [0.953931,   800000,    84622,   100000,    25020],\n",
        "  [0.930896,   800000,    76647,   100000,    22735],\n",
        "  [0.907861,   800000,    68530,   100000,    20458],\n",
        "  [0.884827,   800000,    60749,   100000,    18207],\n",
        "  [0.861792,   800000,    53272,   100000,    16016],\n",
        "  [0.838757,   800000,    47885,   100000,    14211],\n",
        "  [0.815723,   800000,    39644,   100000,    11931],\n",
        "  [0.792688,   800000,    33407,   100000,    10081],\n",
        "  [0.769653,   800000,    27958,   100000,     8480],\n",
        "  [0.746619,   800000,    22746,   100000,     6965],\n",
        "  [0.723584,   800000,    18070,   100000,     5490],\n",
        "  [0.700549,   800000,    14290,   100000,     4322],\n",
        "  [0.677515,   800000,    10778,   100000,     3284],\n",
        "  [0.654480,   800000,     7794,   100000,     2383],\n",
        "  [0.631445,   800000,     5532,   100000,     1737],\n",
        "  [0.608411,   800000,     4057,   100000,     1209],\n",
        "  [0.585376,   800000,     2407,   100000,      725],\n",
        "  [0.562341,   800000,     1396,   100000,      438]]\n",
        "else:\n",
        "  result_map=[[1.264911,   500000,    59237,   100000,    22729],\n",
        "  [1.235774,   500000,    54438,   100000,    20893],\n",
        "  [1.206637,   500000,    50574,   100000,    19374],\n",
        "  [1.177501,   500000,    46021,   100000,    17771],\n",
        "  [1.148364,   500000,    41948,   100000,    16080],\n",
        "  [1.119227,   500000,    37194,   100000,    14326],\n",
        "  [1.090090,   500000,    33784,   100000,    13047],\n",
        "  [1.060953,   500000,    29614,   100000,    11364],\n",
        "  [1.031817,   500000,    25992,   100000,     9988],\n",
        "  [1.002680,   500000,    22299,   100000,     8487],\n",
        "  [0.973543,   500000,    19170,   100000,     7363],\n",
        "  [0.944406,   500000,    15939,   100000,     6169],\n",
        "  [0.915269,   500000,    13310,   100000,     5101],\n",
        "  [0.886133,   500000,    10954,   100000,     4197],\n",
        "  [0.856996,   500000,     8759,   100000,     3359],\n",
        "  [0.827859,   500000,     6990,   100000,     2675],\n",
        "  [0.798722,   500000,     5218,   100000,     1992],\n",
        "  [0.769585,   500000,     3976,   100000,     1517],\n",
        "  [0.740449,   500000,     3035,   100000,     1150],\n",
        "  [0.711312,   500000,     2123,   100000,      800]]\n",
        "  \n",
        "result_map=np.array(result_map)\n",
        "print(result_map)"
      ],
      "execution_count": 9,
      "outputs": [
        {
          "output_type": "stream",
          "text": [
            "[[1.00000e+00 8.00000e+05 9.94630e+04 1.00000e+05 2.94980e+04]\n",
            " [9.76965e-01 8.00000e+05 9.28090e+04 1.00000e+05 2.73160e+04]\n",
            " [9.53931e-01 8.00000e+05 8.46220e+04 1.00000e+05 2.50200e+04]\n",
            " [9.30896e-01 8.00000e+05 7.66470e+04 1.00000e+05 2.27350e+04]\n",
            " [9.07861e-01 8.00000e+05 6.85300e+04 1.00000e+05 2.04580e+04]\n",
            " [8.84827e-01 8.00000e+05 6.07490e+04 1.00000e+05 1.82070e+04]\n",
            " [8.61792e-01 8.00000e+05 5.32720e+04 1.00000e+05 1.60160e+04]\n",
            " [8.38757e-01 8.00000e+05 4.78850e+04 1.00000e+05 1.42110e+04]\n",
            " [8.15723e-01 8.00000e+05 3.96440e+04 1.00000e+05 1.19310e+04]\n",
            " [7.92688e-01 8.00000e+05 3.34070e+04 1.00000e+05 1.00810e+04]\n",
            " [7.69653e-01 8.00000e+05 2.79580e+04 1.00000e+05 8.48000e+03]\n",
            " [7.46619e-01 8.00000e+05 2.27460e+04 1.00000e+05 6.96500e+03]\n",
            " [7.23584e-01 8.00000e+05 1.80700e+04 1.00000e+05 5.49000e+03]\n",
            " [7.00549e-01 8.00000e+05 1.42900e+04 1.00000e+05 4.32200e+03]\n",
            " [6.77515e-01 8.00000e+05 1.07780e+04 1.00000e+05 3.28400e+03]\n",
            " [6.54480e-01 8.00000e+05 7.79400e+03 1.00000e+05 2.38300e+03]\n",
            " [6.31445e-01 8.00000e+05 5.53200e+03 1.00000e+05 1.73700e+03]\n",
            " [6.08411e-01 8.00000e+05 4.05700e+03 1.00000e+05 1.20900e+03]\n",
            " [5.85376e-01 8.00000e+05 2.40700e+03 1.00000e+05 7.25000e+02]\n",
            " [5.62341e-01 8.00000e+05 1.39600e+03 1.00000e+05 4.38000e+02]]\n"
          ],
          "name": "stdout"
        }
      ]
    },
    {
      "cell_type": "code",
      "metadata": {
        "id": "ZhLIjHnQUjt_",
        "colab_type": "code",
        "colab": {}
      },
      "source": [
        "SNR_dB_start_Es = SNR_dB_start_Eb + 10*np.log10(k/N)\n",
        "SNR_dB_stop_Es = SNR_dB_stop_Eb + 10*np.log10(k/N)\n",
        "\n",
        "sigma_start = np.sqrt(1/(2*10**(SNR_dB_start_Es/10)))\n",
        "sigma_stop = np.sqrt(1/(2*10**(SNR_dB_stop_Es/10)))\n",
        "\n",
        "sigmas = np.linspace(sigma_start, sigma_stop, SNR_points)\n",
        "\n",
        "nb_errors = np.zeros(len(sigmas),dtype=int)\n",
        "nb_bits = np.zeros(len(sigmas),dtype=int)\n",
        "\n",
        "for i in range(0,len(sigmas)):\n",
        "\n",
        "    for ii in range(0,np.round(num_words/test_batch).astype(int)):\n",
        "        \n",
        "        # Source\n",
        "        np.random.seed(0)\n",
        "        d_test = np.random.randint(0,2,size=(test_batch,k)) \n",
        "\n",
        "        # Encoder\n",
        "        if code == 'polar':\n",
        "            x_test = np.zeros((test_batch, N),dtype=bool)\n",
        "            u_test = np.zeros((test_batch, N),dtype=bool)\n",
        "            u_test[:,A] = d_test\n",
        "\n",
        "            for iii in range(0,test_batch):\n",
        "                x_test[iii] = polar_transform_iter(u_test[iii])\n",
        "\n",
        "        elif code == 'random':\n",
        "            x_test = np.zeros((test_batch, N),dtype=bool)\n",
        "            for iii in range(0,test_batch):\n",
        "                x_test[iii] = x[bin2int(d_test[iii])]\n",
        "\n",
        "        # Modulator (BPSK)\n",
        "        s_test = -2*x_test + 1\n",
        "\n",
        "        # Channel (AWGN)\n",
        "        y_test = s_test + sigmas[i]*np.random.standard_normal(s_test.shape)\n",
        "\n",
        "        if LLR:\n",
        "            y_test = 2*y_test/(sigmas[i]**2)\n",
        "\n",
        "        # Decoder\n",
        "        nb_errors[i] += decoder.evaluate(y_test, d_test, batch_size=test_batch, verbose=0)[1]\n",
        "        nb_bits[i] += d_test.size"
      ],
      "execution_count": 0,
      "outputs": []
    },
    {
      "cell_type": "code",
      "metadata": {
        "id": "w5owEB4SUoWs",
        "colab_type": "code",
        "colab": {}
      },
      "source": [
        "\n",
        "sigmas_map = result_map[:,0]\n",
        "nb_bits_map = result_map[:,1]\n",
        "nb_errors_map = result_map[:,2]"
      ],
      "execution_count": 0,
      "outputs": []
    },
    {
      "cell_type": "code",
      "metadata": {
        "id": "8uMRzld8UtEc",
        "colab_type": "code",
        "outputId": "7abad5d5-ce5a-4c82-8ff7-2c4666a84cfc",
        "colab": {
          "base_uri": "https://localhost:8080/",
          "height": 304
        }
      },
      "source": [
        "legend = []\n",
        "\n",
        "plt.plot(10*np.log10(1/(2*sigmas**2)) - 10*np.log10(k/N), nb_errors/nb_bits)\n",
        "legend.append('NN') \n",
        "\n",
        "plt.plot(10*np.log10(1/(2*sigmas_map**2)) - 10*np.log10(k/N), nb_errors_map/nb_bits_map)\n",
        "legend.append('MAP') \n",
        "print(\"The graph of BER vs SNR for polar codes at varying SNR of test data with SNR of noise in training data set fixed to 1.\")\n",
        "plt.legend(legend, loc=3)\n",
        "plt.yscale('log')\n",
        "plt.xlabel('$E_b/N_0$')\n",
        "plt.ylabel('BER')    \n",
        "plt.grid(True)\n",
        "plt.show()\n"
      ],
      "execution_count": 12,
      "outputs": [
        {
          "output_type": "stream",
          "text": [
            "The graph of BER vs SNR for polar codes at varying SNR of test data with SNR of noise in training data set fixed to 1.\n"
          ],
          "name": "stdout"
        },
        {
          "output_type": "display_data",
          "data": {
            "image/png": "[encoded data removed]",
            "text/plain": [
              "<Figure size 432x288 with 1 Axes>"
            ]
          },
          "metadata": {
            "tags": []
          }
        }
      ]
    },
    {
      "cell_type": "code",
      "metadata": {
        "id": "tFhU1oFsLO4K",
        "colab_type": "code",
        "colab": {
          "base_uri": "https://localhost:8080/",
          "height": 304
        },
        "outputId": "af3337c9-bea5-4a91-c9f9-fca158288421"
      },
      "source": [
        "legend = []\n",
        "\n",
        "plt.plot(10*np.log10(1/(2*sigmas**2)) - 10*np.log10(k/N), nb_errors/nb_bits)\n",
        "legend.append('NN') \n",
        "\n",
        "plt.plot(10*np.log10(1/(2*sigmas_map**2)) - 10*np.log10(k/N), nb_errors_map/nb_bits_map)\n",
        "legend.append('MAP_DECODING_OF_RANDOMCODES') \n",
        "print(\"The graph of BER vs SNR for random codes at varying SNR of test data with SNR of noise in training data set fixed to 1.\")\n",
        "plt.legend(legend, loc=3)\n",
        "plt.yscale('log')\n",
        "plt.xlabel('$E_b/N_0$')\n",
        "plt.ylabel('BER')    \n",
        "plt.grid(True)\n",
        "plt.show()\n"
      ],
      "execution_count": 14,
      "outputs": [
        {
          "output_type": "stream",
          "text": [
            "The graph of BER vs SNR for random codes at varying SNR of test data with SNR of noise in training data set fixed to 1.\n"
          ],
          "name": "stdout"
        },
        {
          "output_type": "display_data",
          "data": {
            "image/png": "[encoded data removed]",
            "text/plain": [
              "<Figure size 432x288 with 1 Axes>"
            ]
          },
          "metadata": {
            "tags": []
          }
        }
      ]
    },
    {
      "cell_type": "code",
      "metadata": {
        "id": "1frLiy8aXyV9",
        "colab_type": "code",
        "colab": {
          "base_uri": "https://localhost:8080/",
          "height": 338
        },
        "outputId": "e1c55344-a627-4eba-c1ac-73337ab4a348"
      },
      "source": [
        "legend = []\n",
        "\n",
        "plt.plot(10*np.log10(1/(2*sigmas**2)) - 10*np.log10(k/N), nb_errors/nb_bits)\n",
        "legend.append('NN') \n",
        "\n",
        "plt.plot(10*np.log10(1/(2*sigmas_map**2)) - 10*np.log10(k/N), nb_errors_map/nb_bits_map)\n",
        "NVE=0\n",
        "for i in range(len(nb_errors_map)):\n",
        "  a=nb_errors[i]/nb_bits[i]\n",
        "  b=nb_errors_map[i]/nb_bits_map[i]\n",
        "  NVE+=(a/b)\n",
        "NVE=(NVE/len(nb_errors_map))\n",
        "legend.append('MAP')\n",
        "print(\"The NVE without is:\")\n",
        "print(NVE)\n",
        "print(\"The graph of BER vs SNR(without LLR)for polar codes at varying SNR of test data with SNR of noise in training data set fixed to 1.\")\n",
        "plt.legend(legend, loc=3)\n",
        "plt.yscale('log')\n",
        "plt.xlabel('$E_b/N_0$')\n",
        "plt.ylabel('BER')    \n",
        "plt.grid(True)\n",
        "plt.show()\n"
      ],
      "execution_count": 26,
      "outputs": [
        {
          "output_type": "stream",
          "text": [
            "The NVE without is:\n",
            "2.3304514033113444\n",
            "The graph of BER vs SNR(without LLR)for polar codes at varying SNR of test data with SNR of noise in training data set fixed to 1.\n"
          ],
          "name": "stdout"
        },
        {
          "output_type": "display_data",
          "data": {
            "image/png": "[encoded data removed]",
            "text/plain": [
              "<Figure size 432x288 with 1 Axes>"
            ]
          },
          "metadata": {
            "tags": []
          }
        }
      ]
    },
    {
      "cell_type": "code",
      "metadata": {
        "id": "Clt6OkkrZaz5",
        "colab_type": "code",
        "colab": {
          "base_uri": "https://localhost:8080/",
          "height": 338
        },
        "outputId": "0439f44a-664b-43fa-ef29-d2f1369722c7"
      },
      "source": [
        "legend = []\n",
        "\n",
        "plt.plot(10*np.log10(1/(2*sigmas**2)) - 10*np.log10(k/N), nb_errors/nb_bits)\n",
        "legend.append('NN') \n",
        "plt.plot(10*np.log10(1/(2*sigmas_map**2)) - 10*np.log10(k/N), nb_errors_map/nb_bits_map)\n",
        "legend.append('MAP') \n",
        "NVE=0\n",
        "for i in range(len(nb_errors_map)):\n",
        "  a=nb_errors[i]/nb_bits[i]\n",
        "  b=nb_errors_map[i]/nb_bits_map[i]\n",
        "  NVE+=(a/b)\n",
        "NVE=(NVE/len(nb_errors_map))\n",
        "print(\"The NVE using LLR is:\")\n",
        "print(NVE)\n",
        "print(\"The graph of BER vs SNR for polar codes with LLR and 2**12 epochs at varying SNR of test data with SNR of noise in training data set fixed to 1.\")\n",
        "plt.legend(legend, loc=3)\n",
        "plt.yscale('log')\n",
        "plt.xlabel('$E_b/N_0$')\n",
        "plt.ylabel('BER')    \n",
        "plt.grid(True)\n",
        "plt.show()\n"
      ],
      "execution_count": 13,
      "outputs": [
        {
          "output_type": "stream",
          "text": [
            "The NVE using LLR is:\n",
            "2.060227722657762\n",
            "The graph of BER vs SNR for polar codes with LLR and 2**12 epochs at varying SNR of test data with SNR of noise in training data set fixed to 1.\n"
          ],
          "name": "stdout"
        },
        {
          "output_type": "display_data",
          "data": {
            "image/png": "[encoded data removed]",
            "text/plain": [
              "<Figure size 432x288 with 1 Axes>"
            ]
          },
          "metadata": {
            "tags": []
          }
        }
      ]
    },
    {
      "cell_type": "code",
      "metadata": {
        "id": "IRZOQo-4Ux7u",
        "colab_type": "code",
        "colab": {}
      },
      "source": [
        ""
      ],
      "execution_count": 0,
      "outputs": []
    }
  ]
}